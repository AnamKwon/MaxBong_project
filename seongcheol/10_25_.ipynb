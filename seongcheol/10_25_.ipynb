{
 "cells": [
  {
   "cell_type": "code",
   "execution_count": 2,
   "metadata": {},
   "outputs": [
    {
     "name": "stdout",
     "output_type": "stream",
     "text": [
      "[[[221 147  69]\n",
      "  [221 147  69]\n",
      "  [221 147  69]\n",
      "  ...\n",
      "  [212 126  26]\n",
      "  [212 126  26]\n",
      "  [212 126  26]]\n",
      "\n",
      " [[221 147  69]\n",
      "  [221 147  69]\n",
      "  [221 147  69]\n",
      "  ...\n",
      "  [212 126  26]\n",
      "  [212 126  26]\n",
      "  [212 126  26]]\n",
      "\n",
      " [[221 147  69]\n",
      "  [221 147  69]\n",
      "  [221 147  69]\n",
      "  ...\n",
      "  [213 126  28]\n",
      "  [213 126  28]\n",
      "  [213 126  28]]\n",
      "\n",
      " ...\n",
      "\n",
      " [[124 194 201]\n",
      "  [134 206 213]\n",
      "  [ 57 127 134]\n",
      "  ...\n",
      "  [137 202 216]\n",
      "  [ 96 159 173]\n",
      "  [ 92 155 169]]\n",
      "\n",
      " [[ 83 155 162]\n",
      "  [111 185 191]\n",
      "  [ 79 151 158]\n",
      "  ...\n",
      "  [135 203 216]\n",
      "  [ 67 132 146]\n",
      "  [ 99 164 178]]\n",
      "\n",
      " [[ 23  97 103]\n",
      "  [115 189 195]\n",
      "  [ 77 151 157]\n",
      "  ...\n",
      "  [ 74 142 155]\n",
      "  [147 212 226]\n",
      "  [107 172 186]]]\n"
     ]
    },
    {
     "data": {
      "text/plain": [
       "13"
      ]
     },
     "execution_count": 2,
     "metadata": {},
     "output_type": "execute_result"
    }
   ],
   "source": [
    "import cv2\n",
    "import matplotlib as plt\n",
    "\n",
    "\n",
    "\n",
    "\n",
    "color = cv2.imread('./mex_chichen/0002.jpg', cv2.IMREAD_COLOR)\n",
    "\n",
    "\n",
    "print(color)\n",
    "\n",
    "\n",
    "plt.imshow(color)\n",
    "# cv2.imshow('color',color)\n",
    "# cv2.waitKey(0)"
   ]
  },
  {
   "cell_type": "code",
   "execution_count": null,
   "metadata": {},
   "outputs": [],
   "source": []
  },
  {
   "cell_type": "code",
   "execution_count": null,
   "metadata": {},
   "outputs": [],
   "source": []
  }
 ],
 "metadata": {
  "kernelspec": {
   "display_name": "Python 3",
   "language": "python",
   "name": "python3"
  },
  "language_info": {
   "codemirror_mode": {
    "name": "ipython",
    "version": 3
   },
   "file_extension": ".py",
   "mimetype": "text/x-python",
   "name": "python",
   "nbconvert_exporter": "python",
   "pygments_lexer": "ipython3",
   "version": "3.7.6"
  }
 },
 "nbformat": 4,
 "nbformat_minor": 4
}
